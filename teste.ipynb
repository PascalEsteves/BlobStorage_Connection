{
 "cells": [
  {
   "cell_type": "code",
   "execution_count": 2,
   "id": "af85b1a2-aa20-495c-8707-96726c130d13",
   "metadata": {},
   "outputs": [],
   "source": [
    "import os\n",
    "import json\n",
    "from config import Valid_Blob_Config\n",
    "from blob_connection import Connection"
   ]
  },
  {
   "cell_type": "code",
   "execution_count": null,
   "id": "4e9db55f-f57a-4d69-83ab-4c4148ce4be5",
   "metadata": {},
   "outputs": [],
   "source": [
    "# f = open('config.json')\n",
    "__location__ = os.path.realpath(os.path.join(os.getcwd(), os.path.dirname(__file__)))\n",
    "f = open(os.path.join(__location__, 'config.json'))\n",
    "config = Valid_Blob_Config(json.load(f))\n",
    "\n",
    "connection = Connection(config)"
   ]
  }
 ],
 "metadata": {
  "kernelspec": {
   "display_name": "Python 3 (ipykernel)",
   "language": "python",
   "name": "python3"
  },
  "language_info": {
   "codemirror_mode": {
    "name": "ipython",
    "version": 3
   },
   "file_extension": ".py",
   "mimetype": "text/x-python",
   "name": "python",
   "nbconvert_exporter": "python",
   "pygments_lexer": "ipython3",
   "version": "3.9.13"
  }
 },
 "nbformat": 4,
 "nbformat_minor": 5
}
